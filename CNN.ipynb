{
 "cells": [
  {
   "cell_type": "markdown",
   "metadata": {},
   "source": [
    "# Prepare data"
   ]
  },
  {
   "cell_type": "code",
   "execution_count": 1,
   "metadata": {},
   "outputs": [],
   "source": [
    "import pandas as pd\n",
    "import numpy as np\n",
    "train_dataset = pd.read_csv(\"Car_TRAIN.txt\", sep = ' ', header = None)\n",
    "test_dataset = pd.read_csv(\"Car_TEST.txt\", sep = ' ', header = None)"
   ]
  },
  {
   "cell_type": "code",
   "execution_count": 2,
   "metadata": {},
   "outputs": [],
   "source": [
    "x1 = train_dataset.shape[0]\n",
    "y1 = train_dataset.shape[1]\n",
    "train_col = train_dataset.shape[1] - 1\n",
    "y_train = train_dataset[y1 - 1]\n",
    "train_data = train_dataset[0 : y1 - 1]\n",
    "\n",
    "x2 = test_dataset.shape[0]\n",
    "y2 = test_dataset.shape[1]\n",
    "y_test= test_dataset[y2 - 1]\n",
    "test_data = test_dataset[0 : y2 - 1]"
   ]
  },
  {
   "cell_type": "code",
   "execution_count": 3,
   "metadata": {},
   "outputs": [],
   "source": [
    "def normalize(data):\n",
    "    data -= np.mean(data, axis=0)\n",
    "    data /= np.std(data, axis=0)\n",
    "    return data\n",
    "x_train = normalize(train_data).values.reshape( x1, y1, 1)\n",
    "x_test = normalize(test_data).values.reshape(x2, y2, 1)"
   ]
  },
  {
   "cell_type": "markdown",
   "metadata": {},
   "source": [
    "# CNN Training"
   ]
  },
  {
   "cell_type": "code",
   "execution_count": 4,
   "metadata": {},
   "outputs": [],
   "source": [
    "import tensorflow as  tf\n",
    "from tensorflow.keras import layers, models"
   ]
  },
  {
   "cell_type": "markdown",
   "metadata": {},
   "source": [
    "Hyperparameters"
   ]
  },
  {
   "cell_type": "code",
   "execution_count": 6,
   "metadata": {},
   "outputs": [],
   "source": [
    "# batch_size = 600\n",
    "# seq_len = 128\n",
    "# learning_rate = 0.001\n",
    "# epchos = 1000\n",
    "\n",
    "# n_classes = 5\n",
    "# n_channels = 1"
   ]
  },
  {
   "cell_type": "markdown",
   "metadata": {},
   "source": [
    "Convolutional And Pooling Layers"
   ]
  },
  {
   "cell_type": "code",
   "execution_count": 7,
   "metadata": {},
   "outputs": [
    {
     "name": "stdout",
     "output_type": "stream",
     "text": [
      "Model: \"sequential\"\n",
      "_________________________________________________________________\n",
      "Layer (type)                 Output Shape              Param #   \n",
      "=================================================================\n",
      "conv1d (Conv1D)              (None, 578, 100)          400       \n",
      "_________________________________________________________________\n",
      "max_pooling1d (MaxPooling1D) (None, 289, 100)          0         \n",
      "_________________________________________________________________\n",
      "conv1d_1 (Conv1D)            (None, 288, 160)          32160     \n",
      "_________________________________________________________________\n",
      "max_pooling1d_1 (MaxPooling1 (None, 96, 160)           0         \n",
      "=================================================================\n",
      "Total params: 32,560\n",
      "Trainable params: 32,560\n",
      "Non-trainable params: 0\n",
      "_________________________________________________________________\n"
     ]
    }
   ],
   "source": [
    "model = models.Sequential()\n",
    "\n",
    "model.add(layers.Conv1D(100, kernel_size=3, padding='same', input_shape=(y1, 1)))\n",
    "model.add(layers.MaxPooling1D(2))\n",
    "model.add(layers.Conv1D(160, 2))\n",
    "model.add(layers.MaxPooling1D(3))\n",
    "model.summary()"
   ]
  },
  {
   "cell_type": "markdown",
   "metadata": {},
   "source": [
    "Feature Layers"
   ]
  },
  {
   "cell_type": "code",
   "execution_count": 8,
   "metadata": {},
   "outputs": [
    {
     "name": "stdout",
     "output_type": "stream",
     "text": [
      "Model: \"sequential\"\n",
      "_________________________________________________________________\n",
      "Layer (type)                 Output Shape              Param #   \n",
      "=================================================================\n",
      "conv1d (Conv1D)              (None, 578, 100)          400       \n",
      "_________________________________________________________________\n",
      "max_pooling1d (MaxPooling1D) (None, 289, 100)          0         \n",
      "_________________________________________________________________\n",
      "conv1d_1 (Conv1D)            (None, 288, 160)          32160     \n",
      "_________________________________________________________________\n",
      "max_pooling1d_1 (MaxPooling1 (None, 96, 160)           0         \n",
      "_________________________________________________________________\n",
      "flatten (Flatten)            (None, 15360)             0         \n",
      "_________________________________________________________________\n",
      "dense (Dense)                (None, 60)                921660    \n",
      "_________________________________________________________________\n",
      "dense_1 (Dense)              (None, 60)                3660      \n",
      "=================================================================\n",
      "Total params: 957,880\n",
      "Trainable params: 957,880\n",
      "Non-trainable params: 0\n",
      "_________________________________________________________________\n"
     ]
    }
   ],
   "source": [
    "model.add(layers.Flatten())\n",
    "model.add(layers.Dense(x1, activation = 'relu'))\n",
    "model.add(layers.Dense(x1))\n",
    "model.summary()"
   ]
  },
  {
   "cell_type": "markdown",
   "metadata": {},
   "source": [
    "Model Compile"
   ]
  },
  {
   "cell_type": "code",
   "execution_count": 9,
   "metadata": {},
   "outputs": [
    {
     "name": "stdout",
     "output_type": "stream",
     "text": [
      "Model: \"sequential\"\n",
      "_________________________________________________________________\n",
      "Layer (type)                 Output Shape              Param #   \n",
      "=================================================================\n",
      "conv1d (Conv1D)              (None, 578, 100)          400       \n",
      "_________________________________________________________________\n",
      "max_pooling1d (MaxPooling1D) (None, 289, 100)          0         \n",
      "_________________________________________________________________\n",
      "conv1d_1 (Conv1D)            (None, 288, 160)          32160     \n",
      "_________________________________________________________________\n",
      "max_pooling1d_1 (MaxPooling1 (None, 96, 160)           0         \n",
      "_________________________________________________________________\n",
      "flatten (Flatten)            (None, 15360)             0         \n",
      "_________________________________________________________________\n",
      "dense (Dense)                (None, 60)                921660    \n",
      "_________________________________________________________________\n",
      "dense_1 (Dense)              (None, 60)                3660      \n",
      "=================================================================\n",
      "Total params: 957,880\n",
      "Trainable params: 957,880\n",
      "Non-trainable params: 0\n",
      "_________________________________________________________________\n"
     ]
    }
   ],
   "source": [
    "model.compile(optimizer = 'adam',\n",
    "              loss = tf.keras.losses.SparseCategoricalCrossentropy(from_logits=True),\n",
    "              metrics=['accuracy'])\n",
    "model.summary()"
   ]
  },
  {
   "cell_type": "markdown",
   "metadata": {},
   "source": [
    "Model Training"
   ]
  },
  {
   "cell_type": "code",
   "execution_count": 16,
   "metadata": {
    "scrolled": true
   },
   "outputs": [
    {
     "name": "stdout",
     "output_type": "stream",
     "text": [
      "Train on 60 samples, validate on 60 samples\n",
      "Epoch 1/100\n",
      "60/60 [==============================] - 0s 2ms/sample - loss: 0.0017 - accuracy: 1.0000 - val_loss: 2.4953 - val_accuracy: 0.8000\n",
      "Epoch 2/100\n",
      "60/60 [==============================] - 0s 3ms/sample - loss: 0.0014 - accuracy: 1.0000 - val_loss: 2.5407 - val_accuracy: 0.8000\n",
      "Epoch 3/100\n",
      "60/60 [==============================] - 0s 2ms/sample - loss: 0.0011 - accuracy: 1.0000 - val_loss: 2.5784 - val_accuracy: 0.8000\n",
      "Epoch 4/100\n",
      "60/60 [==============================] - 0s 2ms/sample - loss: 9.3035e-04 - accuracy: 1.0000 - val_loss: 2.6089 - val_accuracy: 0.8000\n",
      "Epoch 5/100\n",
      "60/60 [==============================] - 0s 2ms/sample - loss: 7.7562e-04 - accuracy: 1.0000 - val_loss: 2.6348 - val_accuracy: 0.8000\n",
      "Epoch 6/100\n",
      "60/60 [==============================] - 0s 2ms/sample - loss: 6.7062e-04 - accuracy: 1.0000 - val_loss: 2.6555 - val_accuracy: 0.8000\n",
      "Epoch 7/100\n",
      "60/60 [==============================] - 0s 2ms/sample - loss: 5.9277e-04 - accuracy: 1.0000 - val_loss: 2.6734 - val_accuracy: 0.8000\n",
      "Epoch 8/100\n",
      "60/60 [==============================] - 0s 2ms/sample - loss: 5.2333e-04 - accuracy: 1.0000 - val_loss: 2.6884 - val_accuracy: 0.8000\n",
      "Epoch 9/100\n",
      "60/60 [==============================] - 0s 2ms/sample - loss: 4.6517e-04 - accuracy: 1.0000 - val_loss: 2.7004 - val_accuracy: 0.8000\n",
      "Epoch 10/100\n",
      "60/60 [==============================] - 0s 2ms/sample - loss: 4.2359e-04 - accuracy: 1.0000 - val_loss: 2.7112 - val_accuracy: 0.8000\n",
      "Epoch 11/100\n",
      "60/60 [==============================] - 0s 2ms/sample - loss: 3.9020e-04 - accuracy: 1.0000 - val_loss: 2.7207 - val_accuracy: 0.8000\n",
      "Epoch 12/100\n",
      "60/60 [==============================] - 0s 2ms/sample - loss: 3.6562e-04 - accuracy: 1.0000 - val_loss: 2.7290 - val_accuracy: 0.8000\n",
      "Epoch 13/100\n",
      "60/60 [==============================] - 0s 2ms/sample - loss: 3.4165e-04 - accuracy: 1.0000 - val_loss: 2.7366 - val_accuracy: 0.8000\n",
      "Epoch 14/100\n",
      "60/60 [==============================] - 0s 2ms/sample - loss: 3.2347e-04 - accuracy: 1.0000 - val_loss: 2.7438 - val_accuracy: 0.8000\n",
      "Epoch 15/100\n",
      "60/60 [==============================] - 0s 2ms/sample - loss: 3.0860e-04 - accuracy: 1.0000 - val_loss: 2.7501 - val_accuracy: 0.8000\n",
      "Epoch 16/100\n",
      "60/60 [==============================] - 0s 2ms/sample - loss: 2.9355e-04 - accuracy: 1.0000 - val_loss: 2.7565 - val_accuracy: 0.8000\n",
      "Epoch 17/100\n",
      "60/60 [==============================] - 0s 2ms/sample - loss: 2.8343e-04 - accuracy: 1.0000 - val_loss: 2.7622 - val_accuracy: 0.8000\n",
      "Epoch 18/100\n",
      "60/60 [==============================] - 0s 2ms/sample - loss: 2.7368e-04 - accuracy: 1.0000 - val_loss: 2.7677 - val_accuracy: 0.8000\n",
      "Epoch 19/100\n",
      "60/60 [==============================] - 0s 2ms/sample - loss: 2.6473e-04 - accuracy: 1.0000 - val_loss: 2.7731 - val_accuracy: 0.8000\n",
      "Epoch 20/100\n",
      "60/60 [==============================] - 0s 2ms/sample - loss: 2.5685e-04 - accuracy: 1.0000 - val_loss: 2.7785 - val_accuracy: 0.8000\n",
      "Epoch 21/100\n",
      "60/60 [==============================] - 0s 2ms/sample - loss: 2.4960e-04 - accuracy: 1.0000 - val_loss: 2.7837 - val_accuracy: 0.8000\n",
      "Epoch 22/100\n",
      "60/60 [==============================] - 0s 2ms/sample - loss: 2.4144e-04 - accuracy: 1.0000 - val_loss: 2.7887 - val_accuracy: 0.8000\n",
      "Epoch 23/100\n",
      "60/60 [==============================] - 0s 2ms/sample - loss: 2.3546e-04 - accuracy: 1.0000 - val_loss: 2.7937 - val_accuracy: 0.8000\n",
      "Epoch 24/100\n",
      "60/60 [==============================] - 0s 2ms/sample - loss: 2.3027e-04 - accuracy: 1.0000 - val_loss: 2.7989 - val_accuracy: 0.8000\n",
      "Epoch 25/100\n",
      "60/60 [==============================] - 0s 2ms/sample - loss: 2.2408e-04 - accuracy: 1.0000 - val_loss: 2.8039 - val_accuracy: 0.8000\n",
      "Epoch 26/100\n",
      "60/60 [==============================] - 0s 2ms/sample - loss: 2.1740e-04 - accuracy: 1.0000 - val_loss: 2.8085 - val_accuracy: 0.8000\n",
      "Epoch 27/100\n",
      "60/60 [==============================] - 0s 2ms/sample - loss: 2.1288e-04 - accuracy: 1.0000 - val_loss: 2.8126 - val_accuracy: 0.8000\n",
      "Epoch 28/100\n",
      "60/60 [==============================] - 0s 2ms/sample - loss: 2.0803e-04 - accuracy: 1.0000 - val_loss: 2.8166 - val_accuracy: 0.8000\n",
      "Epoch 29/100\n",
      "60/60 [==============================] - 0s 2ms/sample - loss: 2.0339e-04 - accuracy: 1.0000 - val_loss: 2.8206 - val_accuracy: 0.8000\n",
      "Epoch 30/100\n",
      "60/60 [==============================] - 0s 2ms/sample - loss: 2.0023e-04 - accuracy: 1.0000 - val_loss: 2.8250 - val_accuracy: 0.8000\n",
      "Epoch 31/100\n",
      "60/60 [==============================] - 0s 2ms/sample - loss: 1.9589e-04 - accuracy: 1.0000 - val_loss: 2.8286 - val_accuracy: 0.8000\n",
      "Epoch 32/100\n",
      "60/60 [==============================] - 0s 2ms/sample - loss: 1.9167e-04 - accuracy: 1.0000 - val_loss: 2.8325 - val_accuracy: 0.8000\n",
      "Epoch 33/100\n",
      "60/60 [==============================] - 0s 2ms/sample - loss: 1.8829e-04 - accuracy: 1.0000 - val_loss: 2.8360 - val_accuracy: 0.8000\n",
      "Epoch 34/100\n",
      "60/60 [==============================] - 0s 2ms/sample - loss: 1.8423e-04 - accuracy: 1.0000 - val_loss: 2.8391 - val_accuracy: 0.8000\n",
      "Epoch 35/100\n",
      "60/60 [==============================] - 0s 2ms/sample - loss: 1.8139e-04 - accuracy: 1.0000 - val_loss: 2.8428 - val_accuracy: 0.8000\n",
      "Epoch 36/100\n",
      "60/60 [==============================] - 0s 2ms/sample - loss: 1.7788e-04 - accuracy: 1.0000 - val_loss: 2.8461 - val_accuracy: 0.8000\n",
      "Epoch 37/100\n",
      "60/60 [==============================] - 0s 2ms/sample - loss: 1.7435e-04 - accuracy: 1.0000 - val_loss: 2.8489 - val_accuracy: 0.8000\n",
      "Epoch 38/100\n",
      "60/60 [==============================] - 0s 2ms/sample - loss: 1.7134e-04 - accuracy: 1.0000 - val_loss: 2.8520 - val_accuracy: 0.8000\n",
      "Epoch 39/100\n",
      "60/60 [==============================] - 0s 2ms/sample - loss: 1.6858e-04 - accuracy: 1.0000 - val_loss: 2.8546 - val_accuracy: 0.8000\n",
      "Epoch 40/100\n",
      "60/60 [==============================] - 0s 2ms/sample - loss: 1.6550e-04 - accuracy: 1.0000 - val_loss: 2.8572 - val_accuracy: 0.8000\n",
      "Epoch 41/100\n",
      "60/60 [==============================] - 0s 2ms/sample - loss: 1.6282e-04 - accuracy: 1.0000 - val_loss: 2.8601 - val_accuracy: 0.8000\n",
      "Epoch 42/100\n",
      "60/60 [==============================] - 0s 2ms/sample - loss: 1.5936e-04 - accuracy: 1.0000 - val_loss: 2.8628 - val_accuracy: 0.8000\n",
      "Epoch 43/100\n",
      "60/60 [==============================] - 0s 2ms/sample - loss: 1.5757e-04 - accuracy: 1.0000 - val_loss: 2.8655 - val_accuracy: 0.8000\n",
      "Epoch 44/100\n",
      "60/60 [==============================] - 0s 2ms/sample - loss: 1.5439e-04 - accuracy: 1.0000 - val_loss: 2.8681 - val_accuracy: 0.8000\n",
      "Epoch 45/100\n",
      "60/60 [==============================] - 0s 2ms/sample - loss: 1.5188e-04 - accuracy: 1.0000 - val_loss: 2.8706 - val_accuracy: 0.8000\n",
      "Epoch 46/100\n",
      "60/60 [==============================] - 0s 2ms/sample - loss: 1.4964e-04 - accuracy: 1.0000 - val_loss: 2.8734 - val_accuracy: 0.8000\n",
      "Epoch 47/100\n",
      "60/60 [==============================] - 0s 2ms/sample - loss: 1.4731e-04 - accuracy: 1.0000 - val_loss: 2.8762 - val_accuracy: 0.8000\n",
      "Epoch 48/100\n",
      "60/60 [==============================] - 0s 2ms/sample - loss: 1.4467e-04 - accuracy: 1.0000 - val_loss: 2.8786 - val_accuracy: 0.8000\n",
      "Epoch 49/100\n",
      "60/60 [==============================] - 0s 2ms/sample - loss: 1.4261e-04 - accuracy: 1.0000 - val_loss: 2.8814 - val_accuracy: 0.8000\n",
      "Epoch 50/100\n",
      "60/60 [==============================] - 0s 2ms/sample - loss: 1.4047e-04 - accuracy: 1.0000 - val_loss: 2.8835 - val_accuracy: 0.8000\n",
      "Epoch 51/100\n",
      "60/60 [==============================] - 0s 2ms/sample - loss: 1.3811e-04 - accuracy: 1.0000 - val_loss: 2.8858 - val_accuracy: 0.7833\n",
      "Epoch 52/100\n",
      "60/60 [==============================] - 0s 2ms/sample - loss: 1.3607e-04 - accuracy: 1.0000 - val_loss: 2.8887 - val_accuracy: 0.7833\n",
      "Epoch 53/100\n",
      "60/60 [==============================] - 0s 2ms/sample - loss: 1.3393e-04 - accuracy: 1.0000 - val_loss: 2.8911 - val_accuracy: 0.7833\n",
      "Epoch 54/100\n",
      "60/60 [==============================] - 0s 2ms/sample - loss: 1.3208e-04 - accuracy: 1.0000 - val_loss: 2.8938 - val_accuracy: 0.7833\n",
      "Epoch 55/100\n",
      "60/60 [==============================] - 0s 2ms/sample - loss: 1.2983e-04 - accuracy: 1.0000 - val_loss: 2.8964 - val_accuracy: 0.7833\n",
      "Epoch 56/100\n",
      "60/60 [==============================] - 0s 2ms/sample - loss: 1.2792e-04 - accuracy: 1.0000 - val_loss: 2.8992 - val_accuracy: 0.7833\n",
      "Epoch 57/100\n",
      "60/60 [==============================] - 0s 2ms/sample - loss: 1.2637e-04 - accuracy: 1.0000 - val_loss: 2.9019 - val_accuracy: 0.7833\n",
      "Epoch 58/100\n",
      "60/60 [==============================] - 0s 2ms/sample - loss: 1.2420e-04 - accuracy: 1.0000 - val_loss: 2.9046 - val_accuracy: 0.7833\n",
      "Epoch 59/100\n",
      "60/60 [==============================] - 0s 2ms/sample - loss: 1.2272e-04 - accuracy: 1.0000 - val_loss: 2.9074 - val_accuracy: 0.7833\n",
      "Epoch 60/100\n",
      "60/60 [==============================] - 0s 2ms/sample - loss: 1.2075e-04 - accuracy: 1.0000 - val_loss: 2.9096 - val_accuracy: 0.7833\n",
      "Epoch 61/100\n",
      "60/60 [==============================] - 0s 2ms/sample - loss: 1.1910e-04 - accuracy: 1.0000 - val_loss: 2.9120 - val_accuracy: 0.7833\n",
      "Epoch 62/100\n",
      "60/60 [==============================] - 0s 2ms/sample - loss: 1.1722e-04 - accuracy: 1.0000 - val_loss: 2.9147 - val_accuracy: 0.7833\n",
      "Epoch 63/100\n",
      "60/60 [==============================] - 0s 2ms/sample - loss: 1.1585e-04 - accuracy: 1.0000 - val_loss: 2.9174 - val_accuracy: 0.7833\n",
      "Epoch 64/100\n",
      "60/60 [==============================] - 0s 2ms/sample - loss: 1.1402e-04 - accuracy: 1.0000 - val_loss: 2.9199 - val_accuracy: 0.7833\n",
      "Epoch 65/100\n",
      "60/60 [==============================] - 0s 2ms/sample - loss: 1.1269e-04 - accuracy: 1.0000 - val_loss: 2.9225 - val_accuracy: 0.7833\n",
      "Epoch 66/100\n",
      "60/60 [==============================] - 0s 2ms/sample - loss: 1.1110e-04 - accuracy: 1.0000 - val_loss: 2.9248 - val_accuracy: 0.7833\n",
      "Epoch 67/100\n",
      "60/60 [==============================] - 0s 2ms/sample - loss: 1.0939e-04 - accuracy: 1.0000 - val_loss: 2.9273 - val_accuracy: 0.7833\n",
      "Epoch 68/100\n",
      "60/60 [==============================] - 0s 2ms/sample - loss: 1.0810e-04 - accuracy: 1.0000 - val_loss: 2.9299 - val_accuracy: 0.7833\n",
      "Epoch 69/100\n",
      "60/60 [==============================] - 0s 2ms/sample - loss: 1.0658e-04 - accuracy: 1.0000 - val_loss: 2.9322 - val_accuracy: 0.7833\n",
      "Epoch 70/100\n",
      "60/60 [==============================] - 0s 2ms/sample - loss: 1.0531e-04 - accuracy: 1.0000 - val_loss: 2.9347 - val_accuracy: 0.7833\n",
      "Epoch 71/100\n",
      "60/60 [==============================] - 0s 2ms/sample - loss: 1.0376e-04 - accuracy: 1.0000 - val_loss: 2.9372 - val_accuracy: 0.7833\n",
      "Epoch 72/100\n",
      "60/60 [==============================] - 0s 2ms/sample - loss: 1.0227e-04 - accuracy: 1.0000 - val_loss: 2.9394 - val_accuracy: 0.7833\n",
      "Epoch 73/100\n",
      "60/60 [==============================] - 0s 2ms/sample - loss: 1.0086e-04 - accuracy: 1.0000 - val_loss: 2.9418 - val_accuracy: 0.7833\n",
      "Epoch 74/100\n",
      "60/60 [==============================] - 0s 2ms/sample - loss: 9.9752e-05 - accuracy: 1.0000 - val_loss: 2.9440 - val_accuracy: 0.7833\n",
      "Epoch 75/100\n",
      "60/60 [==============================] - 0s 2ms/sample - loss: 9.8445e-05 - accuracy: 1.0000 - val_loss: 2.9462 - val_accuracy: 0.7833\n",
      "Epoch 76/100\n",
      "60/60 [==============================] - 0s 2ms/sample - loss: 9.7107e-05 - accuracy: 1.0000 - val_loss: 2.9484 - val_accuracy: 0.7833\n",
      "Epoch 77/100\n",
      "60/60 [==============================] - 0s 2ms/sample - loss: 9.6072e-05 - accuracy: 1.0000 - val_loss: 2.9506 - val_accuracy: 0.7833\n",
      "Epoch 78/100\n",
      "60/60 [==============================] - 0s 2ms/sample - loss: 9.4784e-05 - accuracy: 1.0000 - val_loss: 2.9527 - val_accuracy: 0.7833\n",
      "Epoch 79/100\n",
      "60/60 [==============================] - 0s 2ms/sample - loss: 9.3543e-05 - accuracy: 1.0000 - val_loss: 2.9548 - val_accuracy: 0.7833\n",
      "Epoch 80/100\n",
      "60/60 [==============================] - 0s 2ms/sample - loss: 9.2377e-05 - accuracy: 1.0000 - val_loss: 2.9568 - val_accuracy: 0.7833\n",
      "Epoch 81/100\n",
      "60/60 [==============================] - 0s 3ms/sample - loss: 9.1116e-05 - accuracy: 1.0000 - val_loss: 2.9591 - val_accuracy: 0.7833\n",
      "Epoch 82/100\n",
      "60/60 [==============================] - 0s 2ms/sample - loss: 8.9877e-05 - accuracy: 1.0000 - val_loss: 2.9614 - val_accuracy: 0.7833\n",
      "Epoch 83/100\n",
      "60/60 [==============================] - 0s 2ms/sample - loss: 8.8943e-05 - accuracy: 1.0000 - val_loss: 2.9635 - val_accuracy: 0.7833\n",
      "Epoch 84/100\n",
      "60/60 [==============================] - 0s 2ms/sample - loss: 8.7925e-05 - accuracy: 1.0000 - val_loss: 2.9659 - val_accuracy: 0.7833\n",
      "Epoch 85/100\n",
      "60/60 [==============================] - 0s 2ms/sample - loss: 8.6654e-05 - accuracy: 1.0000 - val_loss: 2.9681 - val_accuracy: 0.7833\n",
      "Epoch 86/100\n",
      "60/60 [==============================] - 0s 2ms/sample - loss: 8.5854e-05 - accuracy: 1.0000 - val_loss: 2.9703 - val_accuracy: 0.7833\n",
      "Epoch 87/100\n",
      "60/60 [==============================] - 0s 2ms/sample - loss: 8.4573e-05 - accuracy: 1.0000 - val_loss: 2.9724 - val_accuracy: 0.7833\n",
      "Epoch 88/100\n",
      "60/60 [==============================] - 0s 2ms/sample - loss: 8.3721e-05 - accuracy: 1.0000 - val_loss: 2.9747 - val_accuracy: 0.7833\n",
      "Epoch 89/100\n",
      "60/60 [==============================] - 0s 2ms/sample - loss: 8.2658e-05 - accuracy: 1.0000 - val_loss: 2.9765 - val_accuracy: 0.7833\n",
      "Epoch 90/100\n",
      "60/60 [==============================] - 0s 2ms/sample - loss: 8.1564e-05 - accuracy: 1.0000 - val_loss: 2.9788 - val_accuracy: 0.7833\n",
      "Epoch 91/100\n",
      "60/60 [==============================] - 0s 2ms/sample - loss: 8.0821e-05 - accuracy: 1.0000 - val_loss: 2.9810 - val_accuracy: 0.7833\n",
      "Epoch 92/100\n",
      "60/60 [==============================] - 0s 2ms/sample - loss: 7.9695e-05 - accuracy: 1.0000 - val_loss: 2.9830 - val_accuracy: 0.7833\n",
      "Epoch 93/100\n",
      "60/60 [==============================] - 0s 2ms/sample - loss: 7.8851e-05 - accuracy: 1.0000 - val_loss: 2.9853 - val_accuracy: 0.7833\n",
      "Epoch 94/100\n",
      "60/60 [==============================] - 0s 2ms/sample - loss: 7.7952e-05 - accuracy: 1.0000 - val_loss: 2.9876 - val_accuracy: 0.7833\n",
      "Epoch 95/100\n",
      "60/60 [==============================] - 0s 2ms/sample - loss: 7.6975e-05 - accuracy: 1.0000 - val_loss: 2.9898 - val_accuracy: 0.7833\n",
      "Epoch 96/100\n",
      "60/60 [==============================] - 0s 2ms/sample - loss: 7.6135e-05 - accuracy: 1.0000 - val_loss: 2.9918 - val_accuracy: 0.7833\n",
      "Epoch 97/100\n",
      "60/60 [==============================] - 0s 2ms/sample - loss: 7.5229e-05 - accuracy: 1.0000 - val_loss: 2.9940 - val_accuracy: 0.7833\n",
      "Epoch 98/100\n",
      "60/60 [==============================] - 0s 2ms/sample - loss: 7.4361e-05 - accuracy: 1.0000 - val_loss: 2.9962 - val_accuracy: 0.7833\n",
      "Epoch 99/100\n",
      "60/60 [==============================] - 0s 2ms/sample - loss: 7.3640e-05 - accuracy: 1.0000 - val_loss: 2.9984 - val_accuracy: 0.7833\n",
      "Epoch 100/100\n",
      "60/60 [==============================] - 0s 2ms/sample - loss: 7.2850e-05 - accuracy: 1.0000 - val_loss: 3.0007 - val_accuracy: 0.7833\n"
     ]
    }
   ],
   "source": [
    "y_train = np.array(y_train)\n",
    "y_test = np.array(y_test)\n",
    "history = model.fit(x_train, y_train, epochs=100,\n",
    "                   validation_data = (x_test, y_test))"
   ]
  },
  {
   "cell_type": "markdown",
   "metadata": {},
   "source": [
    "Result Visualization"
   ]
  },
  {
   "cell_type": "code",
   "execution_count": 17,
   "metadata": {},
   "outputs": [
    {
     "data": {
      "image/png": "[encoded data removed]",
      "text/plain": [
       "<Figure size 432x288 with 1 Axes>"
      ]
     },
     "metadata": {},
     "output_type": "display_data"
    }
   ],
   "source": [
    "import matplotlib.pyplot as plt\n",
    "\n",
    "plt.plot(history.history['accuracy'])\n",
    "plt.plot(history.history['val_accuracy'])\n",
    "plt.legend(['training', 'valivation'], loc='upper left')\n",
    "plt.show()"
   ]
  },
  {
   "cell_type": "markdown",
   "metadata": {},
   "source": [
    "Model Assessment"
   ]
  },
  {
   "cell_type": "code",
   "execution_count": 18,
   "metadata": {},
   "outputs": [
    {
     "name": "stdout",
     "output_type": "stream",
     "text": [
      "\r",
      "60/1 [========================================================================================================================================================================================================================================================================================================================================================================================================================================================================================================================================================================================================================================================================================================================================================================================================================================================================================================================================================================================================================================================================================================================================================================================================================================================================================================================================================================================================================================================================================================================================================================================================================================================================================================================================================================================================================================================================] - 0s 499us/sample - loss: 2.2596 - accuracy: 0.7833\n"
     ]
    },
    {
     "data": {
      "text/plain": [
       "0.78333336"
      ]
     },
     "execution_count": 18,
     "metadata": {},
     "output_type": "execute_result"
    }
   ],
   "source": [
    "loss, accuracy = model.evaluate(x_test, y_test)\n",
    "loss\n",
    "accuracy"
   ]
  },
  {
   "cell_type": "code",
   "execution_count": null,
   "metadata": {},
   "outputs": [],
   "source": []
  }
 ],
 "metadata": {
  "kernelspec": {
   "display_name": "Python 3",
   "language": "python",
   "name": "python3"
  },
  "language_info": {
   "codemirror_mode": {
    "name": "ipython",
    "version": 3
   },
   "file_extension": ".py",
   "mimetype": "text/x-python",
   "name": "python",
   "nbconvert_exporter": "python",
   "pygments_lexer": "ipython3",
   "version": "3.6.5"
  }
 },
 "nbformat": 4,
 "nbformat_minor": 2
}
