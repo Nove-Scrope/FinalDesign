{
 "cells": [
  {
   "cell_type": "markdown",
   "metadata": {},
   "source": [
    "# CNN"
   ]
  },
  {
   "cell_type": "code",
   "execution_count": 1,
   "metadata": {},
   "outputs": [],
   "source": [
    "import tensorflow as  tf"
   ]
  },
  {
   "cell_type": "markdown",
   "metadata": {},
   "source": [
    "# Prepare Data"
   ]
  },
  {
   "cell_type": "code",
   "execution_count": 2,
   "metadata": {},
   "outputs": [],
   "source": [
    "import pandas as pd\n",
    "import numpy as np\n",
    "train_dataset = pd.read_csv(\"Car_TRAIN.txt\", sep = ' ', header = None)\n",
    "test_dataset = pd.read_csv(\"Car_TEST.txt\", sep = ' ', header = None)"
   ]
  },
  {
   "cell_type": "code",
   "execution_count": 3,
   "metadata": {},
   "outputs": [],
   "source": [
    "train_col = train_dataset.shape[1] - 1\n",
    "train_label = train_dataset[train_col]\n",
    "train_data = train_dataset[0:train_col]\n",
    "test_col = test_dataset.shape[1] - 1\n",
    "test_label = test_dataset[train_col]\n",
    "test_data = test_dataset[0:train_col]"
   ]
  },
  {
   "cell_type": "markdown",
   "metadata": {},
   "source": [
    "# Normalize"
   ]
  },
  {
   "cell_type": "code",
   "execution_count": 4,
   "metadata": {},
   "outputs": [],
   "source": [
    "def normalize(data):\n",
    "    data -= np.mean(data, axis=0)\n",
    "    data /= np.std(data, axis=0)\n",
    "    return data\n",
    "train_data = normalize(train_data)\n",
    "test_data = normalize(test_data)"
   ]
  },
  {
   "cell_type": "markdown",
   "metadata": {},
   "source": [
    "# Hyperparameters"
   ]
  },
  {
   "cell_type": "code",
   "execution_count": 5,
   "metadata": {},
   "outputs": [],
   "source": [
    "# batch_size = 60\n",
    "# seq_len = 40\n",
    "# learning_rate = 0.0001\n",
    "# epochs = 1000\n",
    "# n_classes = 5\n",
    "# n_channels = 9"
   ]
  },
  {
   "cell_type": "markdown",
   "metadata": {},
   "source": [
    "# Training"
   ]
  },
  {
   "cell_type": "code",
   "execution_count": 6,
   "metadata": {},
   "outputs": [],
   "source": [
    "from tensorflow.keras.models import Sequential\n",
    "from tensorflow.keras.layers import Dense, Activation"
   ]
  },
  {
   "cell_type": "code",
   "execution_count": 7,
   "metadata": {},
   "outputs": [],
   "source": [
    "model = Sequential([\n",
    "     Dense(32, input_shape=(578,)),\n",
    "    Activation('relu'),\n",
    "    Dense(10),\n",
    "    Activation('softmax'),\n",
    "]  )"
   ]
  },
  {
   "cell_type": "code",
   "execution_count": 8,
   "metadata": {},
   "outputs": [
    {
     "name": "stdout",
     "output_type": "stream",
     "text": [
      "WARNING:tensorflow:Falling back from v2 loop because of error: Failed to find data adapter that can handle input: <class 'pandas.core.frame.DataFrame'>, <class 'NoneType'>\n",
      "Train on 60 samples\n",
      "Epoch 1/100\n",
      "60/60 [==============================] - 0s 1ms/sample - loss: 1.8032 - accuracy: 0.2500\n",
      "Epoch 2/100\n",
      "60/60 [==============================] - 0s 100us/sample - loss: 1.0585 - accuracy: 0.4833\n",
      "Epoch 3/100\n",
      "60/60 [==============================] - 0s 100us/sample - loss: 0.7298 - accuracy: 0.7000\n",
      "Epoch 4/100\n",
      "60/60 [==============================] - 0s 116us/sample - loss: 0.6042 - accuracy: 0.8500\n",
      "Epoch 5/100\n",
      "60/60 [==============================] - 0s 116us/sample - loss: 0.5356 - accuracy: 0.8500\n",
      "Epoch 6/100\n",
      "60/60 [==============================] - 0s 100us/sample - loss: 0.4691 - accuracy: 0.8667\n",
      "Epoch 7/100\n",
      "60/60 [==============================] - 0s 116us/sample - loss: 0.4294 - accuracy: 0.8667\n",
      "Epoch 8/100\n",
      "60/60 [==============================] - 0s 133us/sample - loss: 0.3936 - accuracy: 0.8833\n",
      "Epoch 9/100\n",
      "60/60 [==============================] - 0s 100us/sample - loss: 0.3429 - accuracy: 0.9500\n",
      "Epoch 10/100\n",
      "60/60 [==============================] - 0s 100us/sample - loss: 0.3162 - accuracy: 0.9500\n",
      "Epoch 11/100\n",
      "60/60 [==============================] - 0s 117us/sample - loss: 0.2803 - accuracy: 0.9500\n",
      "Epoch 12/100\n",
      "60/60 [==============================] - 0s 83us/sample - loss: 0.2748 - accuracy: 0.9833\n",
      "Epoch 13/100\n",
      "60/60 [==============================] - 0s 117us/sample - loss: 0.2353 - accuracy: 0.9500\n",
      "Epoch 14/100\n",
      "60/60 [==============================] - 0s 100us/sample - loss: 0.2178 - accuracy: 0.9667\n",
      "Epoch 15/100\n",
      "60/60 [==============================] - 0s 100us/sample - loss: 0.1986 - accuracy: 0.9500\n",
      "Epoch 16/100\n",
      "60/60 [==============================] - 0s 83us/sample - loss: 0.1777 - accuracy: 0.9833\n",
      "Epoch 17/100\n",
      "60/60 [==============================] - 0s 83us/sample - loss: 0.1614 - accuracy: 1.0000\n",
      "Epoch 18/100\n",
      "60/60 [==============================] - 0s 83us/sample - loss: 0.1448 - accuracy: 1.0000\n",
      "Epoch 19/100\n",
      "60/60 [==============================] - 0s 83us/sample - loss: 0.1355 - accuracy: 0.9833\n",
      "Epoch 20/100\n",
      "60/60 [==============================] - 0s 83us/sample - loss: 0.1316 - accuracy: 1.0000\n",
      "Epoch 21/100\n",
      "60/60 [==============================] - 0s 83us/sample - loss: 0.1191 - accuracy: 1.0000\n",
      "Epoch 22/100\n",
      "60/60 [==============================] - 0s 100us/sample - loss: 0.0984 - accuracy: 1.0000\n",
      "Epoch 23/100\n",
      "60/60 [==============================] - 0s 66us/sample - loss: 0.0972 - accuracy: 1.0000\n",
      "Epoch 24/100\n",
      "60/60 [==============================] - 0s 83us/sample - loss: 0.0884 - accuracy: 1.0000\n",
      "Epoch 25/100\n",
      "60/60 [==============================] - 0s 83us/sample - loss: 0.1032 - accuracy: 1.0000\n",
      "Epoch 26/100\n",
      "60/60 [==============================] - 0s 100us/sample - loss: 0.0810 - accuracy: 1.0000\n",
      "Epoch 27/100\n",
      "60/60 [==============================] - 0s 83us/sample - loss: 0.0687 - accuracy: 1.0000\n",
      "Epoch 28/100\n",
      "60/60 [==============================] - 0s 66us/sample - loss: 0.0637 - accuracy: 1.0000\n",
      "Epoch 29/100\n",
      "60/60 [==============================] - 0s 133us/sample - loss: 0.0576 - accuracy: 1.0000\n",
      "Epoch 30/100\n",
      "60/60 [==============================] - 0s 100us/sample - loss: 0.0482 - accuracy: 1.0000\n",
      "Epoch 31/100\n",
      "60/60 [==============================] - 0s 117us/sample - loss: 0.0451 - accuracy: 1.0000\n",
      "Epoch 32/100\n",
      "60/60 [==============================] - 0s 83us/sample - loss: 0.0441 - accuracy: 1.0000\n",
      "Epoch 33/100\n",
      "60/60 [==============================] - 0s 150us/sample - loss: 0.0460 - accuracy: 1.0000\n",
      "Epoch 34/100\n",
      "60/60 [==============================] - 0s 83us/sample - loss: 0.0404 - accuracy: 1.0000\n",
      "Epoch 35/100\n",
      "60/60 [==============================] - 0s 116us/sample - loss: 0.0408 - accuracy: 1.0000\n",
      "Epoch 36/100\n",
      "60/60 [==============================] - 0s 83us/sample - loss: 0.0355 - accuracy: 1.0000\n",
      "Epoch 37/100\n",
      "60/60 [==============================] - 0s 150us/sample - loss: 0.0297 - accuracy: 1.0000\n",
      "Epoch 38/100\n",
      "60/60 [==============================] - 0s 116us/sample - loss: 0.0279 - accuracy: 1.0000\n",
      "Epoch 39/100\n",
      "60/60 [==============================] - 0s 100us/sample - loss: 0.0301 - accuracy: 1.0000\n",
      "Epoch 40/100\n",
      "60/60 [==============================] - 0s 66us/sample - loss: 0.0243 - accuracy: 1.0000\n",
      "Epoch 41/100\n",
      "60/60 [==============================] - 0s 116us/sample - loss: 0.0213 - accuracy: 1.0000\n",
      "Epoch 42/100\n",
      "60/60 [==============================] - 0s 100us/sample - loss: 0.0186 - accuracy: 1.0000\n",
      "Epoch 43/100\n",
      "60/60 [==============================] - 0s 66us/sample - loss: 0.0196 - accuracy: 1.0000\n",
      "Epoch 44/100\n",
      "60/60 [==============================] - 0s 100us/sample - loss: 0.0179 - accuracy: 1.0000\n",
      "Epoch 45/100\n",
      "60/60 [==============================] - 0s 83us/sample - loss: 0.0155 - accuracy: 1.0000\n",
      "Epoch 46/100\n",
      "60/60 [==============================] - 0s 100us/sample - loss: 0.0143 - accuracy: 1.0000\n",
      "Epoch 47/100\n",
      "60/60 [==============================] - 0s 66us/sample - loss: 0.0134 - accuracy: 1.0000\n",
      "Epoch 48/100\n",
      "60/60 [==============================] - 0s 66us/sample - loss: 0.0117 - accuracy: 1.0000\n",
      "Epoch 49/100\n",
      "60/60 [==============================] - 0s 66us/sample - loss: 0.0118 - accuracy: 1.0000\n",
      "Epoch 50/100\n",
      "60/60 [==============================] - 0s 116us/sample - loss: 0.0126 - accuracy: 1.0000\n",
      "Epoch 51/100\n",
      "60/60 [==============================] - 0s 100us/sample - loss: 0.0111 - accuracy: 1.0000\n",
      "Epoch 52/100\n",
      "60/60 [==============================] - 0s 66us/sample - loss: 0.0113 - accuracy: 1.0000\n",
      "Epoch 53/100\n",
      "60/60 [==============================] - 0s 66us/sample - loss: 0.0086 - accuracy: 1.0000\n",
      "Epoch 54/100\n",
      "60/60 [==============================] - 0s 83us/sample - loss: 0.0080 - accuracy: 1.0000\n",
      "Epoch 55/100\n",
      "60/60 [==============================] - 0s 83us/sample - loss: 0.0077 - accuracy: 1.0000\n",
      "Epoch 56/100\n",
      "60/60 [==============================] - 0s 83us/sample - loss: 0.0071 - accuracy: 1.0000\n",
      "Epoch 57/100\n",
      "60/60 [==============================] - 0s 100us/sample - loss: 0.0055 - accuracy: 1.0000\n",
      "Epoch 58/100\n",
      "60/60 [==============================] - 0s 100us/sample - loss: 0.0051 - accuracy: 1.0000\n",
      "Epoch 59/100\n",
      "60/60 [==============================] - 0s 67us/sample - loss: 0.0047 - accuracy: 1.0000\n",
      "Epoch 60/100\n",
      "60/60 [==============================] - 0s 133us/sample - loss: 0.0046 - accuracy: 1.0000\n",
      "Epoch 61/100\n",
      "60/60 [==============================] - 0s 67us/sample - loss: 0.0043 - accuracy: 1.0000\n",
      "Epoch 62/100\n",
      "60/60 [==============================] - 0s 100us/sample - loss: 0.0039 - accuracy: 1.0000\n",
      "Epoch 63/100\n",
      "60/60 [==============================] - 0s 100us/sample - loss: 0.0039 - accuracy: 1.0000\n",
      "Epoch 64/100\n",
      "60/60 [==============================] - 0s 116us/sample - loss: 0.0033 - accuracy: 1.0000\n",
      "Epoch 65/100\n",
      "60/60 [==============================] - 0s 116us/sample - loss: 0.0032 - accuracy: 1.0000\n",
      "Epoch 66/100\n",
      "60/60 [==============================] - 0s 116us/sample - loss: 0.0031 - accuracy: 1.0000\n",
      "Epoch 67/100\n",
      "60/60 [==============================] - 0s 100us/sample - loss: 0.0032 - accuracy: 1.0000\n",
      "Epoch 68/100\n",
      "60/60 [==============================] - 0s 100us/sample - loss: 0.0036 - accuracy: 1.0000\n",
      "Epoch 69/100\n",
      "60/60 [==============================] - 0s 100us/sample - loss: 0.0036 - accuracy: 1.0000\n",
      "Epoch 70/100\n",
      "60/60 [==============================] - 0s 66us/sample - loss: 0.0025 - accuracy: 1.0000\n",
      "Epoch 71/100\n",
      "60/60 [==============================] - 0s 83us/sample - loss: 0.0023 - accuracy: 1.0000\n",
      "Epoch 72/100\n",
      "60/60 [==============================] - 0s 66us/sample - loss: 0.0017 - accuracy: 1.0000\n",
      "Epoch 73/100\n",
      "60/60 [==============================] - 0s 116us/sample - loss: 0.0015 - accuracy: 1.0000\n",
      "Epoch 74/100\n",
      "60/60 [==============================] - 0s 83us/sample - loss: 0.0014 - accuracy: 1.0000\n",
      "Epoch 75/100\n",
      "60/60 [==============================] - 0s 66us/sample - loss: 0.0013 - accuracy: 1.0000\n",
      "Epoch 76/100\n",
      "60/60 [==============================] - 0s 83us/sample - loss: 0.0015 - accuracy: 1.0000\n",
      "Epoch 77/100\n",
      "60/60 [==============================] - 0s 100us/sample - loss: 0.0015 - accuracy: 1.0000\n",
      "Epoch 78/100\n"
     ]
    },
    {
     "name": "stdout",
     "output_type": "stream",
     "text": [
      "60/60 [==============================] - 0s 83us/sample - loss: 0.0011 - accuracy: 1.0000\n",
      "Epoch 79/100\n",
      "60/60 [==============================] - 0s 83us/sample - loss: 0.0011 - accuracy: 1.0000\n",
      "Epoch 80/100\n",
      "60/60 [==============================] - 0s 100us/sample - loss: 0.0010 - accuracy: 1.0000\n",
      "Epoch 81/100\n",
      "60/60 [==============================] - 0s 66us/sample - loss: 0.0010 - accuracy: 1.0000\n",
      "Epoch 82/100\n",
      "60/60 [==============================] - 0s 83us/sample - loss: 0.0012 - accuracy: 1.0000\n",
      "Epoch 83/100\n",
      "60/60 [==============================] - 0s 133us/sample - loss: 8.6786e-04 - accuracy: 1.0000\n",
      "Epoch 84/100\n",
      "60/60 [==============================] - 0s 133us/sample - loss: 7.6310e-04 - accuracy: 1.0000\n",
      "Epoch 85/100\n",
      "60/60 [==============================] - 0s 83us/sample - loss: 6.6705e-04 - accuracy: 1.0000\n",
      "Epoch 86/100\n",
      "60/60 [==============================] - 0s 116us/sample - loss: 5.5631e-04 - accuracy: 1.0000\n",
      "Epoch 87/100\n",
      "60/60 [==============================] - 0s 66us/sample - loss: 5.1482e-04 - accuracy: 1.0000\n",
      "Epoch 88/100\n",
      "60/60 [==============================] - 0s 133us/sample - loss: 5.2559e-04 - accuracy: 1.0000\n",
      "Epoch 89/100\n",
      "60/60 [==============================] - 0s 83us/sample - loss: 4.7094e-04 - accuracy: 1.0000\n",
      "Epoch 90/100\n",
      "60/60 [==============================] - 0s 100us/sample - loss: 4.1380e-04 - accuracy: 1.0000\n",
      "Epoch 91/100\n",
      "60/60 [==============================] - 0s 67us/sample - loss: 3.9736e-04 - accuracy: 1.0000\n",
      "Epoch 92/100\n",
      "60/60 [==============================] - 0s 100us/sample - loss: 3.5206e-04 - accuracy: 1.0000\n",
      "Epoch 93/100\n",
      "60/60 [==============================] - 0s 83us/sample - loss: 3.2508e-04 - accuracy: 1.0000\n",
      "Epoch 94/100\n",
      "60/60 [==============================] - 0s 66us/sample - loss: 3.0821e-04 - accuracy: 1.0000\n",
      "Epoch 95/100\n",
      "60/60 [==============================] - 0s 116us/sample - loss: 2.8655e-04 - accuracy: 1.0000\n",
      "Epoch 96/100\n",
      "60/60 [==============================] - 0s 83us/sample - loss: 2.6356e-04 - accuracy: 1.0000\n",
      "Epoch 97/100\n",
      "60/60 [==============================] - 0s 133us/sample - loss: 2.6372e-04 - accuracy: 1.0000\n",
      "Epoch 98/100\n",
      "60/60 [==============================] - 0s 66us/sample - loss: 4.3911e-04 - accuracy: 1.0000\n",
      "Epoch 99/100\n",
      "60/60 [==============================] - 0s 116us/sample - loss: 2.6983e-04 - accuracy: 1.0000\n",
      "Epoch 100/100\n",
      "60/60 [==============================] - 0s 66us/sample - loss: 2.6457e-04 - accuracy: 1.0000\n"
     ]
    },
    {
     "data": {
      "text/plain": [
       "<tensorflow.python.keras.callbacks.History at 0x26765e0b588>"
      ]
     },
     "execution_count": 8,
     "metadata": {},
     "output_type": "execute_result"
    }
   ],
   "source": [
    "model = Sequential()\n",
    "model.add(Dense(32, activation='relu', input_dim=578))\n",
    "model.add(Dense(5, activation='softmax'))\n",
    "model.compile(optimizer='rmsprop',\n",
    "             loss='categorical_crossentropy',\n",
    "             metrics=['accuracy'])\n",
    "\n",
    "one_hot_labels = tf.keras.utils.to_categorical(train_label, num_classes=5)\n",
    "model.fit(train_data, one_hot_labels, epochs=100, batch_size=32)"
   ]
  },
  {
   "cell_type": "markdown",
   "metadata": {},
   "source": [
    "# Training Evaluate"
   ]
  },
  {
   "cell_type": "code",
   "execution_count": 9,
   "metadata": {},
   "outputs": [
    {
     "name": "stdout",
     "output_type": "stream",
     "text": [
      "WARNING:tensorflow:Falling back from v2 loop because of error: Failed to find data adapter that can handle input: <class 'pandas.core.frame.DataFrame'>, <class 'NoneType'>\n",
      "60/60 [==============================] - 0s 332us/sample - loss: 1.0714 - accuracy: 0.8333\n",
      "[1.0713689525922139, 0.8333333]\n"
     ]
    }
   ],
   "source": [
    "test_one_hot_labels = tf.keras.utils.to_categorical(test_label, num_classes=5)\n",
    "score = model.evaluate(test_data, test_one_hot_labels, batch_size=32)\n",
    "print(score)"
   ]
  },
  {
   "cell_type": "code",
   "execution_count": null,
   "metadata": {},
   "outputs": [],
   "source": []
  }
 ],
 "metadata": {
  "kernelspec": {
   "display_name": "Python 3",
   "language": "python",
   "name": "python3"
  },
  "language_info": {
   "codemirror_mode": {
    "name": "ipython",
    "version": 3
   },
   "file_extension": ".py",
   "mimetype": "text/x-python",
   "name": "python",
   "nbconvert_exporter": "python",
   "pygments_lexer": "ipython3",
   "version": "3.6.5"
  }
 },
 "nbformat": 4,
 "nbformat_minor": 2
}
