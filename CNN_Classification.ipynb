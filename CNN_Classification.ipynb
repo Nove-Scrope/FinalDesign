{
 "cells": [
  {
   "cell_type": "markdown",
   "metadata": {},
   "source": [
    "# Preprocessing Data"
   ]
  },
  {
   "cell_type": "code",
   "execution_count": 1,
   "metadata": {},
   "outputs": [],
   "source": [
    "import pandas as pd\n",
    "import numpy as np "
   ]
  },
  {
   "cell_type": "markdown",
   "metadata": {},
   "source": [
    "Read Data File"
   ]
  },
  {
   "cell_type": "code",
   "execution_count": 2,
   "metadata": {},
   "outputs": [],
   "source": [
    "train_data = pd.read_csv(\"FordA_TRAIN.txt\", sep = ' ', header=None)\n",
    "test_data = pd.read_csv(\"FordA_TEST.txt\", sep = ' ', header=None)\n",
    "x1, y1 = train_data.shape\n",
    "x2, y2 = test_data.shape\n",
    "x_train, y_train = train_data[0:y1-1], train_data[y1-1]\n",
    "x_test,  y_test   = test_data[0:y2-1],   test_data[y2-1]"
   ]
  },
  {
   "cell_type": "markdown",
   "metadata": {},
   "source": [
    "replace label '-1' with '0'"
   ]
  },
  {
   "cell_type": "code",
   "execution_count": 3,
   "metadata": {},
   "outputs": [],
   "source": [
    "y_train = np.array(y_train.replace(to_replace=-1, value=0))\n",
    "y_test = np.array(y_test.replace(to_replace=-1, value=0))"
   ]
  },
  {
   "cell_type": "markdown",
   "metadata": {},
   "source": [
    "Normalization：x->[-1.0,1.0]"
   ]
  },
  {
   "cell_type": "code",
   "execution_count": 4,
   "metadata": {},
   "outputs": [],
   "source": [
    "# def normalization(data):\n",
    "#     _range = np.max(abs(data))\n",
    "#     return data / _range\n",
    "# x_train = normalization(x_train).values.reshape(x1, y1, 1)\n",
    "# x_test = normalization(x_test).values.reshape(x1, y2, 1)\n",
    "def normalize(data):\n",
    "    _range = np.max(abs(data))\n",
    "    return data / _range\n",
    "    return data\n",
    "x_train = normalize(train_data).values.reshape( x1, y1, 1)\n",
    "x_test = normalize(test_data).values.reshape(x2, y2, 1)"
   ]
  },
  {
   "cell_type": "markdown",
   "metadata": {},
   "source": [
    "# CNN Classification"
   ]
  },
  {
   "cell_type": "code",
   "execution_count": 5,
   "metadata": {},
   "outputs": [],
   "source": [
    "import tensorflow as tf\n",
    "from tensorflow.keras import layers, models\n",
    "from tensorflow.keras.layers import Dense, Activation"
   ]
  },
  {
   "cell_type": "markdown",
   "metadata": {},
   "source": [
    "Convolutional & Pooling Layers=MaxPooling"
   ]
  },
  {
   "cell_type": "markdown",
   "metadata": {},
   "source": [
    "Conv=>Relu=>Pool=>Conv=>Pool"
   ]
  },
  {
   "cell_type": "code",
   "execution_count": 6,
   "metadata": {},
   "outputs": [
    {
     "name": "stdout",
     "output_type": "stream",
     "text": [
      "Model: \"sequential\"\n",
      "_________________________________________________________________\n",
      "Layer (type)                 Output Shape              Param #   \n",
      "=================================================================\n",
      "conv1d (Conv1D)              (None, 495, 6)            48        \n",
      "_________________________________________________________________\n",
      "max_pooling1d (MaxPooling1D) (None, 165, 6)            0         \n",
      "_________________________________________________________________\n",
      "conv1d_1 (Conv1D)            (None, 159, 12)           516       \n",
      "_________________________________________________________________\n",
      "max_pooling1d_1 (MaxPooling1 (None, 53, 12)            0         \n",
      "=================================================================\n",
      "Total params: 564\n",
      "Trainable params: 564\n",
      "Non-trainable params: 0\n",
      "_________________________________________________________________\n"
     ]
    }
   ],
   "source": [
    "model = models.Sequential()\n",
    "\n",
    "# Paper Parameters\n",
    "conv1_filter = [5, 7, 9]\n",
    "conv1_num = [2, 3, 6, 9]\n",
    "conv2_filter = [5, 7, 9]\n",
    "conv2_num = [4, 6, 9, 12, 15]\n",
    "pool_size = [2, 3, 4, 5]\n",
    "\n",
    "model.add(layers.Conv1D(6,7,activation='relu',input_shape=(y1, 1)))\n",
    "model.add(layers.MaxPooling1D(3))\n",
    "model.add(layers.Conv1D(12,7,activation='relu'))\n",
    "model.add(layers.MaxPooling1D(3))\n",
    "model.summary()"
   ]
  },
  {
   "cell_type": "markdown",
   "metadata": {},
   "source": [
    "Convolutional & Pooling Layers=MeanPooling"
   ]
  },
  {
   "cell_type": "code",
   "execution_count": 7,
   "metadata": {},
   "outputs": [],
   "source": [
    "# model = models.Sequential()\n",
    "\n",
    "# #  parameters\n",
    "# conv1_filter = [5, 7, 9]\n",
    "# conv1_num = [2, 3, 6, 9]\n",
    "# conv2_filter = [5, 7, 9]\n",
    "# conv2_num = [4, 6, 9, 12, 15]\n",
    "# pool_size = [2, 3, 4, 5]\n",
    "# model.add(layers.Conv1D(filters=conv1_num[0], kernel_size = conv2_filter,\n",
    "#                         padding='same',activation='relu',input_shape=(y1, 1)))\n",
    "# model.add(layers.AveragePooling1D())\n",
    "# model.add(layers.Conv1D(filters=conv2_num[0], kernel_size=conv2_filter)\n",
    "# model.add(layers.AveragePooling1D())\n",
    "# model.summary()"
   ]
  },
  {
   "cell_type": "markdown",
   "metadata": {},
   "source": [
    "Feature Layers"
   ]
  },
  {
   "cell_type": "code",
   "execution_count": 8,
   "metadata": {},
   "outputs": [
    {
     "name": "stdout",
     "output_type": "stream",
     "text": [
      "Model: \"sequential\"\n",
      "_________________________________________________________________\n",
      "Layer (type)                 Output Shape              Param #   \n",
      "=================================================================\n",
      "conv1d (Conv1D)              (None, 495, 6)            48        \n",
      "_________________________________________________________________\n",
      "max_pooling1d (MaxPooling1D) (None, 165, 6)            0         \n",
      "_________________________________________________________________\n",
      "conv1d_1 (Conv1D)            (None, 159, 12)           516       \n",
      "_________________________________________________________________\n",
      "max_pooling1d_1 (MaxPooling1 (None, 53, 12)            0         \n",
      "_________________________________________________________________\n",
      "flatten (Flatten)            (None, 636)               0         \n",
      "_________________________________________________________________\n",
      "dropout (Dropout)            (None, 636)               0         \n",
      "_________________________________________________________________\n",
      "dense (Dense)                (None, 32)                20384     \n",
      "_________________________________________________________________\n",
      "dropout_1 (Dropout)          (None, 32)                0         \n",
      "_________________________________________________________________\n",
      "dense_1 (Dense)              (None, 1)                 33        \n",
      "=================================================================\n",
      "Total params: 20,981\n",
      "Trainable params: 20,981\n",
      "Non-trainable params: 0\n",
      "_________________________________________________________________\n"
     ]
    }
   ],
   "source": [
    "model.add(layers.Flatten())\n",
    "model.add(layers.Dropout(0.02))\n",
    "model.add(layers.Dense(32, activation='relu',input_dim=y1))\n",
    "model.add(layers.Dropout(0.02))\n",
    "model.add(layers.Dense(1,activation='sigmoid'))\n",
    "model.summary()"
   ]
  },
  {
   "cell_type": "markdown",
   "metadata": {},
   "source": [
    "Model Compile"
   ]
  },
  {
   "cell_type": "code",
   "execution_count": 9,
   "metadata": {},
   "outputs": [
    {
     "name": "stdout",
     "output_type": "stream",
     "text": [
      "Model: \"sequential\"\n",
      "_________________________________________________________________\n",
      "Layer (type)                 Output Shape              Param #   \n",
      "=================================================================\n",
      "conv1d (Conv1D)              (None, 495, 6)            48        \n",
      "_________________________________________________________________\n",
      "max_pooling1d (MaxPooling1D) (None, 165, 6)            0         \n",
      "_________________________________________________________________\n",
      "conv1d_1 (Conv1D)            (None, 159, 12)           516       \n",
      "_________________________________________________________________\n",
      "max_pooling1d_1 (MaxPooling1 (None, 53, 12)            0         \n",
      "_________________________________________________________________\n",
      "flatten (Flatten)            (None, 636)               0         \n",
      "_________________________________________________________________\n",
      "dropout (Dropout)            (None, 636)               0         \n",
      "_________________________________________________________________\n",
      "dense (Dense)                (None, 32)                20384     \n",
      "_________________________________________________________________\n",
      "dropout_1 (Dropout)          (None, 32)                0         \n",
      "_________________________________________________________________\n",
      "dense_1 (Dense)              (None, 1)                 33        \n",
      "=================================================================\n",
      "Total params: 20,981\n",
      "Trainable params: 20,981\n",
      "Non-trainable params: 0\n",
      "_________________________________________________________________\n"
     ]
    }
   ],
   "source": [
    "model.compile(optimizer='rmsprop', \n",
    "             loss='mse',\n",
    "             metrics=['accuracy'])\n",
    "# model.compile(optimizer = 'adam',\n",
    "#               loss = tf.keras.losses.SparseCategoricalCrossentropy(from_logits=True),\n",
    "#               metrics=['accuracy'])\n",
    "model.summary()"
   ]
  },
  {
   "cell_type": "code",
   "execution_count": 10,
   "metadata": {},
   "outputs": [
    {
     "name": "stdout",
     "output_type": "stream",
     "text": [
      "Train on 3601 samples\n",
      "Epoch 1/20\n",
      "3601/3601 [==============================] - 3s 772us/sample - loss: 0.1987 - accuracy: 0.6848\n",
      "Epoch 2/20\n",
      "3601/3601 [==============================] - 2s 446us/sample - loss: 0.0826 - accuracy: 0.9175\n",
      "Epoch 3/20\n",
      "3601/3601 [==============================] - 2s 453us/sample - loss: 0.0143 - accuracy: 0.9942\n",
      "Epoch 4/20\n",
      "3601/3601 [==============================] - 2s 461us/sample - loss: 0.0021 - accuracy: 0.9994\n",
      "Epoch 5/20\n",
      "3601/3601 [==============================] - 2s 448us/sample - loss: 7.2901e-04 - accuracy: 0.9994\n",
      "Epoch 6/20\n",
      "3601/3601 [==============================] - 2s 439us/sample - loss: 1.8651e-04 - accuracy: 1.0000\n",
      "Epoch 7/20\n",
      "3601/3601 [==============================] - 2s 439us/sample - loss: 2.6239e-04 - accuracy: 0.9997\n",
      "Epoch 8/20\n",
      "3601/3601 [==============================] - 2s 450us/sample - loss: 1.0381e-04 - accuracy: 0.9997\n",
      "Epoch 9/20\n",
      "3601/3601 [==============================] - 2s 440us/sample - loss: 4.2371e-05 - accuracy: 1.0000\n",
      "Epoch 10/20\n",
      "3601/3601 [==============================] - ETA: 0s - loss: 1.2855e-04 - accuracy: 1.00 - 2s 440us/sample - loss: 1.2627e-04 - accuracy: 1.0000\n",
      "Epoch 11/20\n",
      "3601/3601 [==============================] - 2s 438us/sample - loss: 4.4955e-06 - accuracy: 1.0000\n",
      "Epoch 12/20\n",
      "3601/3601 [==============================] - 2s 439us/sample - loss: 1.8557e-06 - accuracy: 1.0000\n",
      "Epoch 13/20\n",
      "3601/3601 [==============================] - 2s 443us/sample - loss: 1.7846e-04 - accuracy: 0.9997\n",
      "Epoch 14/20\n",
      "3601/3601 [==============================] - 2s 455us/sample - loss: 2.9042e-05 - accuracy: 1.0000\n",
      "Epoch 15/20\n",
      "3601/3601 [==============================] - 2s 450us/sample - loss: 1.1688e-05 - accuracy: 1.0000\n",
      "Epoch 16/20\n",
      "3601/3601 [==============================] - 2s 451us/sample - loss: 1.2442e-05 - accuracy: 1.0000\n",
      "Epoch 17/20\n",
      "3601/3601 [==============================] - 2s 447us/sample - loss: 3.8560e-06 - accuracy: 1.0000\n",
      "Epoch 18/20\n",
      "3601/3601 [==============================] - 2s 468us/sample - loss: 2.1758e-07 - accuracy: 1.0000\n",
      "Epoch 19/20\n",
      "3601/3601 [==============================] - 2s 445us/sample - loss: 8.9335e-08 - accuracy: 1.0000\n",
      "Epoch 20/20\n",
      "3601/3601 [==============================] - 2s 428us/sample - loss: 1.2369e-06 - accuracy: 1.0000\n"
     ]
    }
   ],
   "source": [
    "history = model.fit(x_train, y_train, epochs=20, batch_size=16)"
   ]
  },
  {
   "cell_type": "code",
   "execution_count": 11,
   "metadata": {},
   "outputs": [],
   "source": [
    "y_pred = model.predict(x_test, batch_size = 1)"
   ]
  },
  {
   "cell_type": "code",
   "execution_count": 12,
   "metadata": {},
   "outputs": [],
   "source": [
    "y_test = pd.DataFrame(y_test)\n",
    "y_pred = pd.DataFrame(y_pred)\n",
    "# y_test,, y_pred"
   ]
  },
  {
   "cell_type": "code",
   "execution_count": 14,
   "metadata": {},
   "outputs": [
    {
     "data": {
      "image/png": "[encoded data removed]",
      "text/plain": [
       "<Figure size 432x288 with 1 Axes>"
      ]
     },
     "metadata": {},
     "output_type": "display_data"
    }
   ],
   "source": [
    "import matplotlib.pyplot as plt\n",
    "plt.plot(history.history['accuracy'])\n",
    "plt.plot(history.history['loss'])\n",
    "plt.ylabel('loss')\n",
    "plt.xlabel('eopch')\n",
    "plt.legend(['accuracy', 'loss'], loc='upper right')\n",
    "plt.show()"
   ]
  },
  {
   "cell_type": "code",
   "execution_count": null,
   "metadata": {},
   "outputs": [],
   "source": []
  }
 ],
 "metadata": {
  "kernelspec": {
   "display_name": "Python 3",
   "language": "python",
   "name": "python3"
  },
  "language_info": {
   "codemirror_mode": {
    "name": "ipython",
    "version": 3
   },
   "file_extension": ".py",
   "mimetype": "text/x-python",
   "name": "python",
   "nbconvert_exporter": "python",
   "pygments_lexer": "ipython3",
   "version": "3.6.5"
  }
 },
 "nbformat": 4,
 "nbformat_minor": 2
}
